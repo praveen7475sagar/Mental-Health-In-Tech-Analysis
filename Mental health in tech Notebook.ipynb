{
 "cells": [
  {
   "cell_type": "markdown",
   "metadata": {},
   "source": [
    "# Mental Health Dataset"
   ]
  },
  {
   "cell_type": "markdown",
   "metadata": {},
   "source": [
    "# Data Analysis by Praveen Sagar K V J"
   ]
  },
  {
   "cell_type": "code",
   "execution_count": 10,
   "metadata": {},
   "outputs": [],
   "source": [
    "#Importing all the required libraries\n",
    "import numpy as np\n",
    "import pandas as pd"
   ]
  },
  {
   "cell_type": "code",
   "execution_count": 11,
   "metadata": {},
   "outputs": [],
   "source": [
    "#reading the dataset from excel file\n",
    "df=pd.read_csv('C:\\\\Users\\\\ARUN PRAVEEN\\\\Desktop\\\\MENTAL HEALTH DATASET.csv')\n",
    "\n",
    "#The dataset has 27 columns but it is much wider then the notebook so we can display all the dataframe columns by the following code so that we won't miss middle columns\n",
    "pd.set_option('display.max_columns',50)"
   ]
  },
  {
   "cell_type": "code",
   "execution_count": 12,
   "metadata": {},
   "outputs": [
    {
     "data": {
      "text/html": [
       "<div>\n",
       "<style scoped>\n",
       "    .dataframe tbody tr th:only-of-type {\n",
       "        vertical-align: middle;\n",
       "    }\n",
       "\n",
       "    .dataframe tbody tr th {\n",
       "        vertical-align: top;\n",
       "    }\n",
       "\n",
       "    .dataframe thead th {\n",
       "        text-align: right;\n",
       "    }\n",
       "</style>\n",
       "<table border=\"1\" class=\"dataframe\">\n",
       "  <thead>\n",
       "    <tr style=\"text-align: right;\">\n",
       "      <th></th>\n",
       "      <th>Timestamp</th>\n",
       "      <th>Age</th>\n",
       "      <th>Gender</th>\n",
       "      <th>Country</th>\n",
       "      <th>state</th>\n",
       "      <th>self_employed</th>\n",
       "      <th>family_history</th>\n",
       "      <th>treatment</th>\n",
       "      <th>work_interfere</th>\n",
       "      <th>no_employees</th>\n",
       "      <th>remote_work</th>\n",
       "      <th>tech_company</th>\n",
       "      <th>benefits</th>\n",
       "      <th>care_options</th>\n",
       "      <th>wellness_program</th>\n",
       "      <th>seek_help</th>\n",
       "      <th>anonymity</th>\n",
       "      <th>leave</th>\n",
       "      <th>mental_health_consequence</th>\n",
       "      <th>phys_health_consequence</th>\n",
       "      <th>coworkers</th>\n",
       "      <th>supervisor</th>\n",
       "      <th>mental_health_interview</th>\n",
       "      <th>phys_health_interview</th>\n",
       "      <th>mental_vs_physical</th>\n",
       "      <th>obs_consequence</th>\n",
       "      <th>comments</th>\n",
       "    </tr>\n",
       "  </thead>\n",
       "  <tbody>\n",
       "    <tr>\n",
       "      <th>0</th>\n",
       "      <td>2014-08-27 11:29:31</td>\n",
       "      <td>37</td>\n",
       "      <td>Female</td>\n",
       "      <td>United States</td>\n",
       "      <td>IL</td>\n",
       "      <td>NaN</td>\n",
       "      <td>No</td>\n",
       "      <td>Yes</td>\n",
       "      <td>Often</td>\n",
       "      <td>6-25</td>\n",
       "      <td>No</td>\n",
       "      <td>Yes</td>\n",
       "      <td>Yes</td>\n",
       "      <td>Not sure</td>\n",
       "      <td>No</td>\n",
       "      <td>Yes</td>\n",
       "      <td>Yes</td>\n",
       "      <td>Somewhat easy</td>\n",
       "      <td>No</td>\n",
       "      <td>No</td>\n",
       "      <td>Some of them</td>\n",
       "      <td>Yes</td>\n",
       "      <td>No</td>\n",
       "      <td>Maybe</td>\n",
       "      <td>Yes</td>\n",
       "      <td>No</td>\n",
       "      <td>NaN</td>\n",
       "    </tr>\n",
       "    <tr>\n",
       "      <th>1</th>\n",
       "      <td>2014-08-27 11:29:37</td>\n",
       "      <td>44</td>\n",
       "      <td>M</td>\n",
       "      <td>United States</td>\n",
       "      <td>IN</td>\n",
       "      <td>NaN</td>\n",
       "      <td>No</td>\n",
       "      <td>No</td>\n",
       "      <td>Rarely</td>\n",
       "      <td>More than 1000</td>\n",
       "      <td>No</td>\n",
       "      <td>No</td>\n",
       "      <td>Don't know</td>\n",
       "      <td>No</td>\n",
       "      <td>Don't know</td>\n",
       "      <td>Don't know</td>\n",
       "      <td>Don't know</td>\n",
       "      <td>Don't know</td>\n",
       "      <td>Maybe</td>\n",
       "      <td>No</td>\n",
       "      <td>No</td>\n",
       "      <td>No</td>\n",
       "      <td>No</td>\n",
       "      <td>No</td>\n",
       "      <td>Don't know</td>\n",
       "      <td>No</td>\n",
       "      <td>NaN</td>\n",
       "    </tr>\n",
       "    <tr>\n",
       "      <th>2</th>\n",
       "      <td>2014-08-27 11:29:44</td>\n",
       "      <td>32</td>\n",
       "      <td>Male</td>\n",
       "      <td>Canada</td>\n",
       "      <td>NaN</td>\n",
       "      <td>NaN</td>\n",
       "      <td>No</td>\n",
       "      <td>No</td>\n",
       "      <td>Rarely</td>\n",
       "      <td>6-25</td>\n",
       "      <td>No</td>\n",
       "      <td>Yes</td>\n",
       "      <td>No</td>\n",
       "      <td>No</td>\n",
       "      <td>No</td>\n",
       "      <td>No</td>\n",
       "      <td>Don't know</td>\n",
       "      <td>Somewhat difficult</td>\n",
       "      <td>No</td>\n",
       "      <td>No</td>\n",
       "      <td>Yes</td>\n",
       "      <td>Yes</td>\n",
       "      <td>Yes</td>\n",
       "      <td>Yes</td>\n",
       "      <td>No</td>\n",
       "      <td>No</td>\n",
       "      <td>NaN</td>\n",
       "    </tr>\n",
       "    <tr>\n",
       "      <th>3</th>\n",
       "      <td>2014-08-27 11:29:46</td>\n",
       "      <td>31</td>\n",
       "      <td>Male</td>\n",
       "      <td>United Kingdom</td>\n",
       "      <td>NaN</td>\n",
       "      <td>NaN</td>\n",
       "      <td>Yes</td>\n",
       "      <td>Yes</td>\n",
       "      <td>Often</td>\n",
       "      <td>26-100</td>\n",
       "      <td>No</td>\n",
       "      <td>Yes</td>\n",
       "      <td>No</td>\n",
       "      <td>Yes</td>\n",
       "      <td>No</td>\n",
       "      <td>No</td>\n",
       "      <td>No</td>\n",
       "      <td>Somewhat difficult</td>\n",
       "      <td>Yes</td>\n",
       "      <td>Yes</td>\n",
       "      <td>Some of them</td>\n",
       "      <td>No</td>\n",
       "      <td>Maybe</td>\n",
       "      <td>Maybe</td>\n",
       "      <td>No</td>\n",
       "      <td>Yes</td>\n",
       "      <td>NaN</td>\n",
       "    </tr>\n",
       "    <tr>\n",
       "      <th>4</th>\n",
       "      <td>2014-08-27 11:30:22</td>\n",
       "      <td>31</td>\n",
       "      <td>Male</td>\n",
       "      <td>United States</td>\n",
       "      <td>TX</td>\n",
       "      <td>NaN</td>\n",
       "      <td>No</td>\n",
       "      <td>No</td>\n",
       "      <td>Never</td>\n",
       "      <td>100-500</td>\n",
       "      <td>Yes</td>\n",
       "      <td>Yes</td>\n",
       "      <td>Yes</td>\n",
       "      <td>No</td>\n",
       "      <td>Don't know</td>\n",
       "      <td>Don't know</td>\n",
       "      <td>Don't know</td>\n",
       "      <td>Don't know</td>\n",
       "      <td>No</td>\n",
       "      <td>No</td>\n",
       "      <td>Some of them</td>\n",
       "      <td>Yes</td>\n",
       "      <td>Yes</td>\n",
       "      <td>Yes</td>\n",
       "      <td>Don't know</td>\n",
       "      <td>No</td>\n",
       "      <td>NaN</td>\n",
       "    </tr>\n",
       "  </tbody>\n",
       "</table>\n",
       "</div>"
      ],
      "text/plain": [
       "             Timestamp  Age  Gender         Country state self_employed  \\\n",
       "0  2014-08-27 11:29:31   37  Female   United States    IL           NaN   \n",
       "1  2014-08-27 11:29:37   44       M   United States    IN           NaN   \n",
       "2  2014-08-27 11:29:44   32    Male          Canada   NaN           NaN   \n",
       "3  2014-08-27 11:29:46   31    Male  United Kingdom   NaN           NaN   \n",
       "4  2014-08-27 11:30:22   31    Male   United States    TX           NaN   \n",
       "\n",
       "  family_history treatment work_interfere    no_employees remote_work  \\\n",
       "0             No       Yes          Often            6-25          No   \n",
       "1             No        No         Rarely  More than 1000          No   \n",
       "2             No        No         Rarely            6-25          No   \n",
       "3            Yes       Yes          Often          26-100          No   \n",
       "4             No        No          Never         100-500         Yes   \n",
       "\n",
       "  tech_company    benefits care_options wellness_program   seek_help  \\\n",
       "0          Yes         Yes     Not sure               No         Yes   \n",
       "1           No  Don't know           No       Don't know  Don't know   \n",
       "2          Yes          No           No               No          No   \n",
       "3          Yes          No          Yes               No          No   \n",
       "4          Yes         Yes           No       Don't know  Don't know   \n",
       "\n",
       "    anonymity               leave mental_health_consequence  \\\n",
       "0         Yes       Somewhat easy                        No   \n",
       "1  Don't know          Don't know                     Maybe   \n",
       "2  Don't know  Somewhat difficult                        No   \n",
       "3          No  Somewhat difficult                       Yes   \n",
       "4  Don't know          Don't know                        No   \n",
       "\n",
       "  phys_health_consequence     coworkers supervisor mental_health_interview  \\\n",
       "0                      No  Some of them        Yes                      No   \n",
       "1                      No            No         No                      No   \n",
       "2                      No           Yes        Yes                     Yes   \n",
       "3                     Yes  Some of them         No                   Maybe   \n",
       "4                      No  Some of them        Yes                     Yes   \n",
       "\n",
       "  phys_health_interview mental_vs_physical obs_consequence comments  \n",
       "0                 Maybe                Yes              No      NaN  \n",
       "1                    No         Don't know              No      NaN  \n",
       "2                   Yes                 No              No      NaN  \n",
       "3                 Maybe                 No             Yes      NaN  \n",
       "4                   Yes         Don't know              No      NaN  "
      ]
     },
     "execution_count": 12,
     "metadata": {},
     "output_type": "execute_result"
    }
   ],
   "source": [
    "df.head(5)"
   ]
  },
  {
   "cell_type": "code",
   "execution_count": 13,
   "metadata": {},
   "outputs": [
    {
     "name": "stdout",
     "output_type": "stream",
     "text": [
      "<class 'pandas.core.frame.DataFrame'>\n",
      "RangeIndex: 1259 entries, 0 to 1258\n",
      "Data columns (total 27 columns):\n",
      " #   Column                     Non-Null Count  Dtype \n",
      "---  ------                     --------------  ----- \n",
      " 0   Timestamp                  1259 non-null   object\n",
      " 1   Age                        1259 non-null   int64 \n",
      " 2   Gender                     1259 non-null   object\n",
      " 3   Country                    1259 non-null   object\n",
      " 4   state                      744 non-null    object\n",
      " 5   self_employed              1241 non-null   object\n",
      " 6   family_history             1259 non-null   object\n",
      " 7   treatment                  1259 non-null   object\n",
      " 8   work_interfere             995 non-null    object\n",
      " 9   no_employees               1259 non-null   object\n",
      " 10  remote_work                1259 non-null   object\n",
      " 11  tech_company               1259 non-null   object\n",
      " 12  benefits                   1259 non-null   object\n",
      " 13  care_options               1259 non-null   object\n",
      " 14  wellness_program           1259 non-null   object\n",
      " 15  seek_help                  1259 non-null   object\n",
      " 16  anonymity                  1259 non-null   object\n",
      " 17  leave                      1259 non-null   object\n",
      " 18  mental_health_consequence  1259 non-null   object\n",
      " 19  phys_health_consequence    1259 non-null   object\n",
      " 20  coworkers                  1259 non-null   object\n",
      " 21  supervisor                 1259 non-null   object\n",
      " 22  mental_health_interview    1259 non-null   object\n",
      " 23  phys_health_interview      1259 non-null   object\n",
      " 24  mental_vs_physical         1259 non-null   object\n",
      " 25  obs_consequence            1259 non-null   object\n",
      " 26  comments                   164 non-null    object\n",
      "dtypes: int64(1), object(26)\n",
      "memory usage: 137.8+ KB\n"
     ]
    }
   ],
   "source": [
    "#Now I'm displaying the Non null count and data types for each of the variable\n",
    "df.info()"
   ]
  },
  {
   "cell_type": "markdown",
   "metadata": {},
   "source": [
    "from the info we can say that only few columns (\"state\",\"work_interfere\" ,\"comments\") has null values "
   ]
  },
  {
   "cell_type": "code",
   "execution_count": 14,
   "metadata": {},
   "outputs": [
    {
     "data": {
      "text/html": [
       "<div>\n",
       "<style scoped>\n",
       "    .dataframe tbody tr th:only-of-type {\n",
       "        vertical-align: middle;\n",
       "    }\n",
       "\n",
       "    .dataframe tbody tr th {\n",
       "        vertical-align: top;\n",
       "    }\n",
       "\n",
       "    .dataframe thead th {\n",
       "        text-align: right;\n",
       "    }\n",
       "</style>\n",
       "<table border=\"1\" class=\"dataframe\">\n",
       "  <thead>\n",
       "    <tr style=\"text-align: right;\">\n",
       "      <th></th>\n",
       "      <th>count of missing values</th>\n",
       "      <th>Percentage of missing values</th>\n",
       "    </tr>\n",
       "  </thead>\n",
       "  <tbody>\n",
       "    <tr>\n",
       "      <th>comments</th>\n",
       "      <td>1095</td>\n",
       "      <td>86.97%</td>\n",
       "    </tr>\n",
       "    <tr>\n",
       "      <th>state</th>\n",
       "      <td>515</td>\n",
       "      <td>40.91%</td>\n",
       "    </tr>\n",
       "    <tr>\n",
       "      <th>work_interfere</th>\n",
       "      <td>264</td>\n",
       "      <td>20.97%</td>\n",
       "    </tr>\n",
       "    <tr>\n",
       "      <th>self_employed</th>\n",
       "      <td>18</td>\n",
       "      <td>1.43%</td>\n",
       "    </tr>\n",
       "    <tr>\n",
       "      <th>benefits</th>\n",
       "      <td>0</td>\n",
       "      <td>0.00%</td>\n",
       "    </tr>\n",
       "    <tr>\n",
       "      <th>Age</th>\n",
       "      <td>0</td>\n",
       "      <td>0.00%</td>\n",
       "    </tr>\n",
       "    <tr>\n",
       "      <th>Gender</th>\n",
       "      <td>0</td>\n",
       "      <td>0.00%</td>\n",
       "    </tr>\n",
       "    <tr>\n",
       "      <th>Country</th>\n",
       "      <td>0</td>\n",
       "      <td>0.00%</td>\n",
       "    </tr>\n",
       "    <tr>\n",
       "      <th>family_history</th>\n",
       "      <td>0</td>\n",
       "      <td>0.00%</td>\n",
       "    </tr>\n",
       "    <tr>\n",
       "      <th>treatment</th>\n",
       "      <td>0</td>\n",
       "      <td>0.00%</td>\n",
       "    </tr>\n",
       "    <tr>\n",
       "      <th>no_employees</th>\n",
       "      <td>0</td>\n",
       "      <td>0.00%</td>\n",
       "    </tr>\n",
       "    <tr>\n",
       "      <th>remote_work</th>\n",
       "      <td>0</td>\n",
       "      <td>0.00%</td>\n",
       "    </tr>\n",
       "    <tr>\n",
       "      <th>tech_company</th>\n",
       "      <td>0</td>\n",
       "      <td>0.00%</td>\n",
       "    </tr>\n",
       "    <tr>\n",
       "      <th>care_options</th>\n",
       "      <td>0</td>\n",
       "      <td>0.00%</td>\n",
       "    </tr>\n",
       "    <tr>\n",
       "      <th>obs_consequence</th>\n",
       "      <td>0</td>\n",
       "      <td>0.00%</td>\n",
       "    </tr>\n",
       "    <tr>\n",
       "      <th>wellness_program</th>\n",
       "      <td>0</td>\n",
       "      <td>0.00%</td>\n",
       "    </tr>\n",
       "    <tr>\n",
       "      <th>seek_help</th>\n",
       "      <td>0</td>\n",
       "      <td>0.00%</td>\n",
       "    </tr>\n",
       "    <tr>\n",
       "      <th>anonymity</th>\n",
       "      <td>0</td>\n",
       "      <td>0.00%</td>\n",
       "    </tr>\n",
       "    <tr>\n",
       "      <th>leave</th>\n",
       "      <td>0</td>\n",
       "      <td>0.00%</td>\n",
       "    </tr>\n",
       "    <tr>\n",
       "      <th>mental_health_consequence</th>\n",
       "      <td>0</td>\n",
       "      <td>0.00%</td>\n",
       "    </tr>\n",
       "    <tr>\n",
       "      <th>phys_health_consequence</th>\n",
       "      <td>0</td>\n",
       "      <td>0.00%</td>\n",
       "    </tr>\n",
       "    <tr>\n",
       "      <th>coworkers</th>\n",
       "      <td>0</td>\n",
       "      <td>0.00%</td>\n",
       "    </tr>\n",
       "    <tr>\n",
       "      <th>supervisor</th>\n",
       "      <td>0</td>\n",
       "      <td>0.00%</td>\n",
       "    </tr>\n",
       "    <tr>\n",
       "      <th>mental_health_interview</th>\n",
       "      <td>0</td>\n",
       "      <td>0.00%</td>\n",
       "    </tr>\n",
       "    <tr>\n",
       "      <th>phys_health_interview</th>\n",
       "      <td>0</td>\n",
       "      <td>0.00%</td>\n",
       "    </tr>\n",
       "    <tr>\n",
       "      <th>mental_vs_physical</th>\n",
       "      <td>0</td>\n",
       "      <td>0.00%</td>\n",
       "    </tr>\n",
       "    <tr>\n",
       "      <th>Timestamp</th>\n",
       "      <td>0</td>\n",
       "      <td>0.00%</td>\n",
       "    </tr>\n",
       "  </tbody>\n",
       "</table>\n",
       "</div>"
      ],
      "text/plain": [
       "                           count of missing values  \\\n",
       "comments                                      1095   \n",
       "state                                          515   \n",
       "work_interfere                                 264   \n",
       "self_employed                                   18   \n",
       "benefits                                         0   \n",
       "Age                                              0   \n",
       "Gender                                           0   \n",
       "Country                                          0   \n",
       "family_history                                   0   \n",
       "treatment                                        0   \n",
       "no_employees                                     0   \n",
       "remote_work                                      0   \n",
       "tech_company                                     0   \n",
       "care_options                                     0   \n",
       "obs_consequence                                  0   \n",
       "wellness_program                                 0   \n",
       "seek_help                                        0   \n",
       "anonymity                                        0   \n",
       "leave                                            0   \n",
       "mental_health_consequence                        0   \n",
       "phys_health_consequence                          0   \n",
       "coworkers                                        0   \n",
       "supervisor                                       0   \n",
       "mental_health_interview                          0   \n",
       "phys_health_interview                            0   \n",
       "mental_vs_physical                               0   \n",
       "Timestamp                                        0   \n",
       "\n",
       "                          Percentage of missing values  \n",
       "comments                                        86.97%  \n",
       "state                                           40.91%  \n",
       "work_interfere                                  20.97%  \n",
       "self_employed                                    1.43%  \n",
       "benefits                                         0.00%  \n",
       "Age                                              0.00%  \n",
       "Gender                                           0.00%  \n",
       "Country                                          0.00%  \n",
       "family_history                                   0.00%  \n",
       "treatment                                        0.00%  \n",
       "no_employees                                     0.00%  \n",
       "remote_work                                      0.00%  \n",
       "tech_company                                     0.00%  \n",
       "care_options                                     0.00%  \n",
       "obs_consequence                                  0.00%  \n",
       "wellness_program                                 0.00%  \n",
       "seek_help                                        0.00%  \n",
       "anonymity                                        0.00%  \n",
       "leave                                            0.00%  \n",
       "mental_health_consequence                        0.00%  \n",
       "phys_health_consequence                          0.00%  \n",
       "coworkers                                        0.00%  \n",
       "supervisor                                       0.00%  \n",
       "mental_health_interview                          0.00%  \n",
       "phys_health_interview                            0.00%  \n",
       "mental_vs_physical                               0.00%  \n",
       "Timestamp                                        0.00%  "
      ]
     },
     "execution_count": 14,
     "metadata": {},
     "output_type": "execute_result"
    }
   ],
   "source": [
    "#Now we can summarize number of missing values for each of the columns and the percentage of it\n",
    "missing_values_per_column = df.isnull().sum().sort_values(ascending=False)\n",
    "percentage_missing_values = 100*(df.isnull().sum()/df.isnull().count()).sort_values(ascending=False)\n",
    "missing = pd.concat([missing_values_per_column, percentage_missing_values], \n",
    "                         axis=1, keys=['count of missing values', 'Percentage of missing values'])\n",
    "\n",
    "ms= 'Percentage of missing values'\n",
    "missing[ms] = pd.Series([\"{0:.2f}%\".format(val) for val in missing[ms]],index = missing.index)\n",
    "missing\n"
   ]
  },
  {
   "cell_type": "code",
   "execution_count": 15,
   "metadata": {},
   "outputs": [
    {
     "name": "stdout",
     "output_type": "stream",
     "text": [
      "Age Analysis\n",
      "Minimum value:  -1726\n",
      "Maximum value:  99999999999\n",
      "How many values are NaN?:  0\n"
     ]
    }
   ],
   "source": [
    "# Explore the numeric variable Age to confirm whether all values are within a reasonable range and if any are NaN.\n",
    "print(\"Age Analysis\")\n",
    "print(\"Minimum value: \", df[\"Age\"].min())\n",
    "print(\"Maximum value: \", df[\"Age\"].max())\n",
    "print(\"How many values are NaN?: \", pd.isnull(df['Age']).sum())\n"
   ]
  },
  {
   "cell_type": "code",
   "execution_count": 16,
   "metadata": {},
   "outputs": [
    {
     "name": "stdout",
     "output_type": "stream",
     "text": [
      "Count of distinct responses for Gender: 49\n",
      "Distinct responses for Gender: {'Male', 'male', 'Femake', 'femail', 'Male (CIS)', 'Cis Man', 'female', 'queer', 'M', 'Cis Female', 'something kinda male?', 'fluid', 'male leaning androgynous', 'Male ', 'Trans woman', 'non-binary', 'Nah', 'Neuter', 'Female', 'maile', 'Genderqueer', 'Agender', 'Male-ish', 'f', 'woman', 'Female (trans)', 'Androgyne', 'Man', 'Cis Male', 'F', 'p', 'Female (cis)', 'Enby', 'Mal', 'Woman', 'Guy (-ish) ^_^', 'Trans-female', 'Malr', 'Mail', 'All', 'queer/she/they', 'cis-female/femme', 'A little about you', 'ostensibly male, unsure what that really means', 'msle', 'cis male', 'm', 'Make', 'Female '}\n"
     ]
    }
   ],
   "source": [
    "# Now we can analyse variable Gender, which appears not to be standardized\n",
    "\n",
    "# Count the number of distinct responses and list them:\n",
    "print(\"Count of distinct responses for Gender:\", len(set(df['Gender'])))\n",
    "print(\"Distinct responses for Gender:\", set(df['Gender']))"
   ]
  },
  {
   "cell_type": "markdown",
   "metadata": {},
   "source": [
    "My further observation on the dataset\n",
    "\n",
    "I want to\n",
    "1) standardize all column header to lower case to avoid typos\n",
    "2) dtype conversion of Timestamp(object) to datetime\n",
    "3) remove AGE outliers\n",
    "4) group GENDER into standardized categories"
   ]
  },
  {
   "cell_type": "code",
   "execution_count": 17,
   "metadata": {},
   "outputs": [
    {
     "data": {
      "text/plain": [
       "Index(['timestamp', 'age', 'gender', 'country', 'state', 'self_employed',\n",
       "       'family_history', 'treatment', 'work_interfere', 'no_employees',\n",
       "       'remote_work', 'tech_company', 'benefits', 'care_options',\n",
       "       'wellness_program', 'seek_help', 'anonymity', 'leave',\n",
       "       'mental_health_consequence', 'phys_health_consequence', 'coworkers',\n",
       "       'supervisor', 'mental_health_interview', 'phys_health_interview',\n",
       "       'mental_vs_physical', 'obs_consequence', 'comments'],\n",
       "      dtype='object')"
      ]
     },
     "execution_count": 17,
     "metadata": {},
     "output_type": "execute_result"
    }
   ],
   "source": [
    "#standardizing all column header to lower case to avoid typos\n",
    "df.columns = map(str.lower, df.columns)\n",
    "df.columns"
   ]
  },
  {
   "cell_type": "code",
   "execution_count": 18,
   "metadata": {},
   "outputs": [
    {
     "data": {
      "text/plain": [
       "timestamp                    datetime64[ns]\n",
       "age                                   int64\n",
       "gender                               object\n",
       "country                              object\n",
       "state                                object\n",
       "self_employed                        object\n",
       "family_history                       object\n",
       "treatment                            object\n",
       "work_interfere                       object\n",
       "no_employees                         object\n",
       "remote_work                          object\n",
       "tech_company                         object\n",
       "benefits                             object\n",
       "care_options                         object\n",
       "wellness_program                     object\n",
       "seek_help                            object\n",
       "anonymity                            object\n",
       "leave                                object\n",
       "mental_health_consequence            object\n",
       "phys_health_consequence              object\n",
       "coworkers                            object\n",
       "supervisor                           object\n",
       "mental_health_interview              object\n",
       "phys_health_interview                object\n",
       "mental_vs_physical                   object\n",
       "obs_consequence                      object\n",
       "comments                             object\n",
       "dtype: object"
      ]
     },
     "execution_count": 18,
     "metadata": {},
     "output_type": "execute_result"
    }
   ],
   "source": [
    "#dtype conversion of Timestamp(object) to datetime\n",
    "df['timestamp'] = pd.to_datetime(df['timestamp'])\n",
    "df.dtypes\n"
   ]
  },
  {
   "cell_type": "code",
   "execution_count": 19,
   "metadata": {},
   "outputs": [
    {
     "name": "stdout",
     "output_type": "stream",
     "text": [
      "New updated Age\n",
      "Minimum value:  5.0\n",
      "Maximum value:  72.0\n",
      "How many values are NaN?:  0\n",
      "Frequency table for updated_age:\n",
      "5.0      1\n",
      "8.0      1\n",
      "11.0     1\n",
      "18.0     7\n",
      "19.0     9\n",
      "20.0     6\n",
      "21.0    16\n",
      "22.0    21\n",
      "23.0    51\n",
      "24.0    46\n",
      "25.0    61\n",
      "26.0    75\n",
      "27.0    71\n",
      "28.0    68\n",
      "29.0    85\n",
      "30.0    63\n",
      "31.0    72\n",
      "32.0    82\n",
      "33.0    70\n",
      "34.0    65\n",
      "35.0    55\n",
      "36.0    37\n",
      "37.0    43\n",
      "38.0    39\n",
      "39.0    33\n",
      "40.0    33\n",
      "41.0    21\n",
      "42.0    20\n",
      "43.0    28\n",
      "44.0    11\n",
      "45.0    12\n",
      "46.0    12\n",
      "47.0     2\n",
      "48.0     6\n",
      "49.0     4\n",
      "50.0     6\n",
      "51.0     5\n",
      "53.0     1\n",
      "54.0     3\n",
      "55.0     3\n",
      "56.0     4\n",
      "57.0     3\n",
      "58.0     1\n",
      "60.0     2\n",
      "61.0     1\n",
      "62.0     1\n",
      "65.0     1\n",
      "72.0     1\n",
      "Name: updated_age, dtype: int64\n"
     ]
    }
   ],
   "source": [
    "#removing 'AGE' outliers\n",
    "# Create a new column \"updated_age\" that replaces out-of-range ages with Median of the Age column\n",
    "# The oldest living person on record lived to be 122 years, 164 days so I ll keep age limit as 122\n",
    "def update_age(age):\n",
    "    if age>=0 and age<=122:\n",
    "        return age\n",
    "    else:\n",
    "        return df['age'].median()\n",
    "df['updated_age'] = df['age'].apply(update_age)\n",
    "\n",
    "# Checking out the new column and making sure it looks right\n",
    "\n",
    "print(\"New updated Age\")\n",
    "print(\"Minimum value: \", df[\"updated_age\"].min())\n",
    "print(\"Maximum value: \", df[\"updated_age\"].max())\n",
    "print(\"How many values are NaN?: \", pd.isnull(df['updated_age']).sum())\n",
    "print(\"Frequency table for updated_age:\")\n",
    "print(df[\"updated_age\"].value_counts().sort_index(0))\n",
    "df['updated_age'] = df['updated_age'].astype(int)"
   ]
  },
  {
   "cell_type": "code",
   "execution_count": 20,
   "metadata": {},
   "outputs": [
    {
     "data": {
      "text/plain": [
       "False    1259\n",
       "Name: updated_age, dtype: int64"
      ]
     },
     "execution_count": 20,
     "metadata": {},
     "output_type": "execute_result"
    }
   ],
   "source": [
    "#checking the updated_age\n",
    "df['updated_age'].isna().value_counts()"
   ]
  },
  {
   "cell_type": "code",
   "execution_count": 21,
   "metadata": {},
   "outputs": [],
   "source": [
    "#grouping GENDER into standardized categories"
   ]
  },
  {
   "cell_type": "markdown",
   "metadata": {},
   "source": [
    "I have decided to keep gender as the following categories for the better analysis\n",
    "*Male(cis)\n",
    "*Male(trans)\n",
    "*Female(cis)\n",
    "*Female(trans)\n",
    "*Other"
   ]
  },
  {
   "cell_type": "code",
   "execution_count": 22,
   "metadata": {},
   "outputs": [
    {
     "name": "stdout",
     "output_type": "stream",
     "text": [
      "Gender:\n",
      "How many values are NaN?:  0\n",
      "\n",
      "Frequency table for gender_new:\n",
      " Female (Cis)      247\n",
      "Female (Trans)      4\n",
      "Male (Cis)        991\n",
      "Other              15\n",
      "Name: gender_new, dtype: int64\n",
      "\n",
      "If we didn't miss any entries, these numbers will be the same:\n",
      "gender = 1257 values\n",
      "gender_new = 1257 values\n",
      "Dataset Entries = 1257 values\n"
     ]
    }
   ],
   "source": [
    "\n",
    "# Standardize the capitalization in the responses by making all characters lower case\n",
    "df['gender'] = df['gender'].str.lower()\n",
    "\n",
    "# Make a copy of the column to preserve the original data. I will work with the new column going forward.\n",
    "df['gender_new'] = df['gender']\n",
    "\n",
    "# Assign each type of response to one of the five categories\n",
    "\n",
    "male = [\"male\", \"m\", \"male-ish\", \"maile\", \"mal\", \"male (cis)\", \"make\", \"male \", \"man\", \"msle\", \"mail\", \"malr\",\"cis man\", \"cis male\"]\n",
    "trans_male = [None]\n",
    "trans_female = [\"trans-female\",  \"trans woman\", \"female (trans)\"]\n",
    "female = [\"cis female\", \"f\", \"female\", \"woman\",  \"femake\", \"female \",\"cis-female/femme\", \"female (cis)\", \"femail\"]\n",
    "other = [\"non-binary\", \"nah\", \"all\", \"enby\", \"fluid\", \"genderqueer\", \"androgyne\", \"agender\", \"male leaning androgynous\", \"guy (-ish) ^_^\", \"neuter\", \"queer\", \"ostensibly male, unsure what that really means\", \"queer/she/they\", \"something kinda male?\"]\n",
    "\n",
    "df['gender_new'] = df['gender_new'].apply(lambda x:\"Male (Cis)\" if x in male else x)\n",
    "df['gender_new'] = df['gender_new'].apply(lambda x:\"Female (Cis)\" if x in female else x)\n",
    "df['gender_new'] = df['gender_new'].apply(lambda x:\"Female (Trans)\" if x in trans_female else x)\n",
    "df['gender_new'] = df['gender_new'].apply(lambda x:\"Male (Trans)\" if x in trans_male else x)\n",
    "df['gender_new'] = df['gender_new'].apply(lambda x:\"Other\" if x in other else x)\n",
    "df.drop(df[df.gender_new == 'p'].index, inplace=True)\n",
    "df.drop(df[df.gender_new == 'a little about you'].index, inplace=True)\n",
    "\n",
    "# Make a crosstab to view the count for each of the new categories\n",
    "print(\"Gender:\")\n",
    "print(\"How many values are NaN?: \", pd.isnull(df['gender_new']).sum())\n",
    "print(\"\")\n",
    "print(\"Frequency table for gender_new:\\n\", df[\"gender_new\"].value_counts().sort_index(0))\n",
    "print(\"\")\n",
    "\n",
    "# Confirm that no entries were missed in the sorting above: display the size of the old and new variables, and of the entire dataset\n",
    "print(\"If we didn't miss any entries, these numbers will be the same:\")\n",
    "print(\"gender =\", len(df['gender']), \"values\")\n",
    "print(\"gender_new =\", len(df['gender_new']), \"values\")\n",
    "print(\"Dataset Entries =\", len(df), \"values\")"
   ]
  },
  {
   "cell_type": "code",
   "execution_count": 23,
   "metadata": {},
   "outputs": [],
   "source": [
    "#dropping age columns because we have updated_age\n",
    "\n",
    "df=df.drop(columns='age')"
   ]
  },
  {
   "cell_type": "code",
   "execution_count": 24,
   "metadata": {},
   "outputs": [],
   "source": [
    "#dropping gender column\n",
    "df=df.drop(columns='gender')"
   ]
  },
  {
   "cell_type": "code",
   "execution_count": 25,
   "metadata": {},
   "outputs": [
    {
     "data": {
      "text/html": [
       "<div>\n",
       "<style scoped>\n",
       "    .dataframe tbody tr th:only-of-type {\n",
       "        vertical-align: middle;\n",
       "    }\n",
       "\n",
       "    .dataframe tbody tr th {\n",
       "        vertical-align: top;\n",
       "    }\n",
       "\n",
       "    .dataframe thead th {\n",
       "        text-align: right;\n",
       "    }\n",
       "</style>\n",
       "<table border=\"1\" class=\"dataframe\">\n",
       "  <thead>\n",
       "    <tr style=\"text-align: right;\">\n",
       "      <th></th>\n",
       "      <th>timestamp</th>\n",
       "      <th>country</th>\n",
       "      <th>state</th>\n",
       "      <th>self_employed</th>\n",
       "      <th>family_history</th>\n",
       "      <th>treatment</th>\n",
       "      <th>work_interfere</th>\n",
       "      <th>no_employees</th>\n",
       "      <th>remote_work</th>\n",
       "      <th>tech_company</th>\n",
       "      <th>benefits</th>\n",
       "      <th>care_options</th>\n",
       "      <th>wellness_program</th>\n",
       "      <th>seek_help</th>\n",
       "      <th>anonymity</th>\n",
       "      <th>leave</th>\n",
       "      <th>mental_health_consequence</th>\n",
       "      <th>phys_health_consequence</th>\n",
       "      <th>coworkers</th>\n",
       "      <th>supervisor</th>\n",
       "      <th>mental_health_interview</th>\n",
       "      <th>phys_health_interview</th>\n",
       "      <th>mental_vs_physical</th>\n",
       "      <th>obs_consequence</th>\n",
       "      <th>comments</th>\n",
       "      <th>updated_age</th>\n",
       "      <th>gender_new</th>\n",
       "    </tr>\n",
       "  </thead>\n",
       "  <tbody>\n",
       "    <tr>\n",
       "      <th>0</th>\n",
       "      <td>2014-08-27 11:29:31</td>\n",
       "      <td>United States</td>\n",
       "      <td>IL</td>\n",
       "      <td>NaN</td>\n",
       "      <td>No</td>\n",
       "      <td>Yes</td>\n",
       "      <td>Often</td>\n",
       "      <td>6-25</td>\n",
       "      <td>No</td>\n",
       "      <td>Yes</td>\n",
       "      <td>Yes</td>\n",
       "      <td>Not sure</td>\n",
       "      <td>No</td>\n",
       "      <td>Yes</td>\n",
       "      <td>Yes</td>\n",
       "      <td>Somewhat easy</td>\n",
       "      <td>No</td>\n",
       "      <td>No</td>\n",
       "      <td>Some of them</td>\n",
       "      <td>Yes</td>\n",
       "      <td>No</td>\n",
       "      <td>Maybe</td>\n",
       "      <td>Yes</td>\n",
       "      <td>No</td>\n",
       "      <td>NaN</td>\n",
       "      <td>37</td>\n",
       "      <td>Female (Cis)</td>\n",
       "    </tr>\n",
       "    <tr>\n",
       "      <th>1</th>\n",
       "      <td>2014-08-27 11:29:37</td>\n",
       "      <td>United States</td>\n",
       "      <td>IN</td>\n",
       "      <td>NaN</td>\n",
       "      <td>No</td>\n",
       "      <td>No</td>\n",
       "      <td>Rarely</td>\n",
       "      <td>More than 1000</td>\n",
       "      <td>No</td>\n",
       "      <td>No</td>\n",
       "      <td>Don't know</td>\n",
       "      <td>No</td>\n",
       "      <td>Don't know</td>\n",
       "      <td>Don't know</td>\n",
       "      <td>Don't know</td>\n",
       "      <td>Don't know</td>\n",
       "      <td>Maybe</td>\n",
       "      <td>No</td>\n",
       "      <td>No</td>\n",
       "      <td>No</td>\n",
       "      <td>No</td>\n",
       "      <td>No</td>\n",
       "      <td>Don't know</td>\n",
       "      <td>No</td>\n",
       "      <td>NaN</td>\n",
       "      <td>44</td>\n",
       "      <td>Male (Cis)</td>\n",
       "    </tr>\n",
       "    <tr>\n",
       "      <th>2</th>\n",
       "      <td>2014-08-27 11:29:44</td>\n",
       "      <td>Canada</td>\n",
       "      <td>NaN</td>\n",
       "      <td>NaN</td>\n",
       "      <td>No</td>\n",
       "      <td>No</td>\n",
       "      <td>Rarely</td>\n",
       "      <td>6-25</td>\n",
       "      <td>No</td>\n",
       "      <td>Yes</td>\n",
       "      <td>No</td>\n",
       "      <td>No</td>\n",
       "      <td>No</td>\n",
       "      <td>No</td>\n",
       "      <td>Don't know</td>\n",
       "      <td>Somewhat difficult</td>\n",
       "      <td>No</td>\n",
       "      <td>No</td>\n",
       "      <td>Yes</td>\n",
       "      <td>Yes</td>\n",
       "      <td>Yes</td>\n",
       "      <td>Yes</td>\n",
       "      <td>No</td>\n",
       "      <td>No</td>\n",
       "      <td>NaN</td>\n",
       "      <td>32</td>\n",
       "      <td>Male (Cis)</td>\n",
       "    </tr>\n",
       "    <tr>\n",
       "      <th>3</th>\n",
       "      <td>2014-08-27 11:29:46</td>\n",
       "      <td>United Kingdom</td>\n",
       "      <td>NaN</td>\n",
       "      <td>NaN</td>\n",
       "      <td>Yes</td>\n",
       "      <td>Yes</td>\n",
       "      <td>Often</td>\n",
       "      <td>26-100</td>\n",
       "      <td>No</td>\n",
       "      <td>Yes</td>\n",
       "      <td>No</td>\n",
       "      <td>Yes</td>\n",
       "      <td>No</td>\n",
       "      <td>No</td>\n",
       "      <td>No</td>\n",
       "      <td>Somewhat difficult</td>\n",
       "      <td>Yes</td>\n",
       "      <td>Yes</td>\n",
       "      <td>Some of them</td>\n",
       "      <td>No</td>\n",
       "      <td>Maybe</td>\n",
       "      <td>Maybe</td>\n",
       "      <td>No</td>\n",
       "      <td>Yes</td>\n",
       "      <td>NaN</td>\n",
       "      <td>31</td>\n",
       "      <td>Male (Cis)</td>\n",
       "    </tr>\n",
       "    <tr>\n",
       "      <th>4</th>\n",
       "      <td>2014-08-27 11:30:22</td>\n",
       "      <td>United States</td>\n",
       "      <td>TX</td>\n",
       "      <td>NaN</td>\n",
       "      <td>No</td>\n",
       "      <td>No</td>\n",
       "      <td>Never</td>\n",
       "      <td>100-500</td>\n",
       "      <td>Yes</td>\n",
       "      <td>Yes</td>\n",
       "      <td>Yes</td>\n",
       "      <td>No</td>\n",
       "      <td>Don't know</td>\n",
       "      <td>Don't know</td>\n",
       "      <td>Don't know</td>\n",
       "      <td>Don't know</td>\n",
       "      <td>No</td>\n",
       "      <td>No</td>\n",
       "      <td>Some of them</td>\n",
       "      <td>Yes</td>\n",
       "      <td>Yes</td>\n",
       "      <td>Yes</td>\n",
       "      <td>Don't know</td>\n",
       "      <td>No</td>\n",
       "      <td>NaN</td>\n",
       "      <td>31</td>\n",
       "      <td>Male (Cis)</td>\n",
       "    </tr>\n",
       "  </tbody>\n",
       "</table>\n",
       "</div>"
      ],
      "text/plain": [
       "            timestamp         country state self_employed family_history  \\\n",
       "0 2014-08-27 11:29:31   United States    IL           NaN             No   \n",
       "1 2014-08-27 11:29:37   United States    IN           NaN             No   \n",
       "2 2014-08-27 11:29:44          Canada   NaN           NaN             No   \n",
       "3 2014-08-27 11:29:46  United Kingdom   NaN           NaN            Yes   \n",
       "4 2014-08-27 11:30:22   United States    TX           NaN             No   \n",
       "\n",
       "  treatment work_interfere    no_employees remote_work tech_company  \\\n",
       "0       Yes          Often            6-25          No          Yes   \n",
       "1        No         Rarely  More than 1000          No           No   \n",
       "2        No         Rarely            6-25          No          Yes   \n",
       "3       Yes          Often          26-100          No          Yes   \n",
       "4        No          Never         100-500         Yes          Yes   \n",
       "\n",
       "     benefits care_options wellness_program   seek_help   anonymity  \\\n",
       "0         Yes     Not sure               No         Yes         Yes   \n",
       "1  Don't know           No       Don't know  Don't know  Don't know   \n",
       "2          No           No               No          No  Don't know   \n",
       "3          No          Yes               No          No          No   \n",
       "4         Yes           No       Don't know  Don't know  Don't know   \n",
       "\n",
       "                leave mental_health_consequence phys_health_consequence  \\\n",
       "0       Somewhat easy                        No                      No   \n",
       "1          Don't know                     Maybe                      No   \n",
       "2  Somewhat difficult                        No                      No   \n",
       "3  Somewhat difficult                       Yes                     Yes   \n",
       "4          Don't know                        No                      No   \n",
       "\n",
       "      coworkers supervisor mental_health_interview phys_health_interview  \\\n",
       "0  Some of them        Yes                      No                 Maybe   \n",
       "1            No         No                      No                    No   \n",
       "2           Yes        Yes                     Yes                   Yes   \n",
       "3  Some of them         No                   Maybe                 Maybe   \n",
       "4  Some of them        Yes                     Yes                   Yes   \n",
       "\n",
       "  mental_vs_physical obs_consequence comments  updated_age    gender_new  \n",
       "0                Yes              No      NaN           37  Female (Cis)  \n",
       "1         Don't know              No      NaN           44    Male (Cis)  \n",
       "2                 No              No      NaN           32    Male (Cis)  \n",
       "3                 No             Yes      NaN           31    Male (Cis)  \n",
       "4         Don't know              No      NaN           31    Male (Cis)  "
      ]
     },
     "execution_count": 25,
     "metadata": {},
     "output_type": "execute_result"
    }
   ],
   "source": [
    "df.head()"
   ]
  },
  {
   "cell_type": "code",
   "execution_count": 29,
   "metadata": {},
   "outputs": [],
   "source": [
    "#Now filling the Null values of work_interfere with \"Don't know\" (assumption)\n",
    "df['work_interfere']=df['work_interfere'].fillna(\"Don't know\")"
   ]
  },
  {
   "cell_type": "code",
   "execution_count": 30,
   "metadata": {},
   "outputs": [
    {
     "data": {
      "text/plain": [
       "Sometimes     465\n",
       "Don\\t know    264\n",
       "Never         213\n",
       "Rarely        173\n",
       "Often         142\n",
       "Name: work_interfere, dtype: int64"
      ]
     },
     "execution_count": 30,
     "metadata": {},
     "output_type": "execute_result"
    }
   ],
   "source": [
    "df['work_interfere'].value_counts()"
   ]
  },
  {
   "cell_type": "code",
   "execution_count": 31,
   "metadata": {},
   "outputs": [],
   "source": [
    "#There were a few self-employed values listed as NaN, so I assumed that these people were self-employed.\n",
    "df['self_employed'].fillna('Yes', inplace=True)\n"
   ]
  },
  {
   "cell_type": "code",
   "execution_count": 32,
   "metadata": {},
   "outputs": [
    {
     "data": {
      "text/plain": [
       "No     1095\n",
       "Yes     162\n",
       "Name: self_employed, dtype: int64"
      ]
     },
     "execution_count": 32,
     "metadata": {},
     "output_type": "execute_result"
    }
   ],
   "source": [
    "df['self_employed'].value_counts()"
   ]
  },
  {
   "cell_type": "code",
   "execution_count": 33,
   "metadata": {},
   "outputs": [
    {
     "name": "stdout",
     "output_type": "stream",
     "text": [
      "<class 'pandas.core.frame.DataFrame'>\n",
      "Int64Index: 1257 entries, 0 to 1258\n",
      "Data columns (total 27 columns):\n",
      " #   Column                     Non-Null Count  Dtype         \n",
      "---  ------                     --------------  -----         \n",
      " 0   timestamp                  1257 non-null   datetime64[ns]\n",
      " 1   country                    1257 non-null   object        \n",
      " 2   state                      742 non-null    object        \n",
      " 3   self_employed              1257 non-null   object        \n",
      " 4   family_history             1257 non-null   object        \n",
      " 5   treatment                  1257 non-null   object        \n",
      " 6   work_interfere             1257 non-null   object        \n",
      " 7   no_employees               1257 non-null   object        \n",
      " 8   remote_work                1257 non-null   object        \n",
      " 9   tech_company               1257 non-null   object        \n",
      " 10  benefits                   1257 non-null   object        \n",
      " 11  care_options               1257 non-null   object        \n",
      " 12  wellness_program           1257 non-null   object        \n",
      " 13  seek_help                  1257 non-null   object        \n",
      " 14  anonymity                  1257 non-null   object        \n",
      " 15  leave                      1257 non-null   object        \n",
      " 16  mental_health_consequence  1257 non-null   object        \n",
      " 17  phys_health_consequence    1257 non-null   object        \n",
      " 18  coworkers                  1257 non-null   object        \n",
      " 19  supervisor                 1257 non-null   object        \n",
      " 20  mental_health_interview    1257 non-null   object        \n",
      " 21  phys_health_interview      1257 non-null   object        \n",
      " 22  mental_vs_physical         1257 non-null   object        \n",
      " 23  obs_consequence            1257 non-null   object        \n",
      " 24  comments                   162 non-null    object        \n",
      " 25  updated_age                1257 non-null   int32         \n",
      " 26  gender_new                 1257 non-null   object        \n",
      "dtypes: datetime64[ns](1), int32(1), object(25)\n",
      "memory usage: 147.3+ KB\n"
     ]
    }
   ],
   "source": [
    "df.info()"
   ]
  },
  {
   "cell_type": "code",
   "execution_count": 34,
   "metadata": {},
   "outputs": [],
   "source": [
    "#we can drop comments column because it has more than 80% missing values\n",
    "df=df.drop(columns='comments')"
   ]
  },
  {
   "cell_type": "code",
   "execution_count": 35,
   "metadata": {},
   "outputs": [
    {
     "data": {
      "text/plain": [
       "Yes    1029\n",
       "No      228\n",
       "Name: tech_company, dtype: int64"
      ]
     },
     "execution_count": 35,
     "metadata": {},
     "output_type": "execute_result"
    }
   ],
   "source": [
    "#Analysis\n",
    "df['tech_company'].value_counts()"
   ]
  },
  {
   "cell_type": "code",
   "execution_count": 36,
   "metadata": {},
   "outputs": [
    {
     "data": {
      "text/plain": [
       "6-25              290\n",
       "26-100            289\n",
       "More than 1000    282\n",
       "100-500           176\n",
       "1-5               160\n",
       "500-1000           60\n",
       "Name: no_employees, dtype: int64"
      ]
     },
     "execution_count": 36,
     "metadata": {},
     "output_type": "execute_result"
    }
   ],
   "source": [
    "df['no_employees'].value_counts()"
   ]
  },
  {
   "cell_type": "code",
   "execution_count": 37,
   "metadata": {},
   "outputs": [
    {
     "data": {
      "text/plain": [
       "No     767\n",
       "Yes    490\n",
       "Name: family_history, dtype: int64"
      ]
     },
     "execution_count": 37,
     "metadata": {},
     "output_type": "execute_result"
    }
   ],
   "source": [
    "df['family_history'].value_counts()"
   ]
  },
  {
   "cell_type": "code",
   "execution_count": 38,
   "metadata": {},
   "outputs": [
    {
     "data": {
      "text/plain": [
       "Yes    635\n",
       "No     622\n",
       "Name: treatment, dtype: int64"
      ]
     },
     "execution_count": 38,
     "metadata": {},
     "output_type": "execute_result"
    }
   ],
   "source": [
    "df['treatment'].value_counts()"
   ]
  },
  {
   "cell_type": "markdown",
   "metadata": {},
   "source": [
    "\n",
    "By observation, there were 1257 people surveyed. Out of this population, the dominant age group was late twenties to early thirties, with the majority being male. About half of those surveyed sought treatment for mental health, while slightly more than half did not have a family history of mental health problems."
   ]
  },
  {
   "cell_type": "markdown",
   "metadata": {},
   "source": [
    "# discussing a physical / mental health issue with your employer would have negative consequences?"
   ]
  },
  {
   "cell_type": "code",
   "execution_count": 39,
   "metadata": {},
   "outputs": [],
   "source": [
    "phys_health_consequences = df.groupby('phys_health_consequence').count()['updated_age']\n",
    "mental_health_consequences = df.groupby('mental_health_consequence').count()['updated_age']"
   ]
  },
  {
   "cell_type": "code",
   "execution_count": 40,
   "metadata": {},
   "outputs": [
    {
     "data": {
      "text/plain": [
       "phys_health_consequence\n",
       "Maybe    273\n",
       "No       925\n",
       "Yes       59\n",
       "Name: updated_age, dtype: int64"
      ]
     },
     "execution_count": 40,
     "metadata": {},
     "output_type": "execute_result"
    }
   ],
   "source": [
    "phys_health_consequences"
   ]
  },
  {
   "cell_type": "code",
   "execution_count": 41,
   "metadata": {},
   "outputs": [
    {
     "data": {
      "text/plain": [
       "mental_health_consequence\n",
       "Maybe    477\n",
       "No       490\n",
       "Yes      290\n",
       "Name: updated_age, dtype: int64"
      ]
     },
     "execution_count": 41,
     "metadata": {},
     "output_type": "execute_result"
    }
   ],
   "source": [
    "mental_health_consequences "
   ]
  },
  {
   "cell_type": "markdown",
   "metadata": {},
   "source": [
    "# willing to discuss a mental health issue with your coworkers or direct supervisor(s)?"
   ]
  },
  {
   "cell_type": "code",
   "execution_count": 42,
   "metadata": {},
   "outputs": [
    {
     "data": {
      "text/plain": [
       "Some of them    774\n",
       "No              260\n",
       "Yes             223\n",
       "Name: coworkers, dtype: int64"
      ]
     },
     "execution_count": 42,
     "metadata": {},
     "output_type": "execute_result"
    }
   ],
   "source": [
    "df['coworkers'].value_counts()"
   ]
  },
  {
   "cell_type": "code",
   "execution_count": 43,
   "metadata": {},
   "outputs": [
    {
     "data": {
      "text/plain": [
       "Yes             514\n",
       "No              393\n",
       "Some of them    350\n",
       "Name: supervisor, dtype: int64"
      ]
     },
     "execution_count": 43,
     "metadata": {},
     "output_type": "execute_result"
    }
   ],
   "source": [
    "df['supervisor'].value_counts()"
   ]
  },
  {
   "cell_type": "markdown",
   "metadata": {},
   "source": [
    "more people would say yes to discussing mental health with their supervisors compared to their coworkers."
   ]
  },
  {
   "cell_type": "code",
   "execution_count": 44,
   "metadata": {},
   "outputs": [
    {
     "data": {
      "text/plain": [
       "United States             750\n",
       "United Kingdom            185\n",
       "Canada                     72\n",
       "Germany                    45\n",
       "Ireland                    27\n",
       "Netherlands                27\n",
       "Australia                  21\n",
       "France                     13\n",
       "India                      10\n",
       "New Zealand                 8\n",
       "Switzerland                 7\n",
       "Italy                       7\n",
       "Sweden                      7\n",
       "Poland                      7\n",
       "South Africa                6\n",
       "Belgium                     6\n",
       "Brazil                      6\n",
       "Israel                      5\n",
       "Singapore                   4\n",
       "Bulgaria                    4\n",
       "Mexico                      3\n",
       "Finland                     3\n",
       "Austria                     3\n",
       "Russia                      3\n",
       "Portugal                    2\n",
       "Greece                      2\n",
       "Denmark                     2\n",
       "Croatia                     2\n",
       "Colombia                    2\n",
       "Nigeria                     1\n",
       "China                       1\n",
       "Czech Republic              1\n",
       "Philippines                 1\n",
       "Japan                       1\n",
       "Uruguay                     1\n",
       "Costa Rica                  1\n",
       "Moldova                     1\n",
       "Hungary                     1\n",
       "Georgia                     1\n",
       "Latvia                      1\n",
       "Slovenia                    1\n",
       "Romania                     1\n",
       "Norway                      1\n",
       "Thailand                    1\n",
       "Bosnia and Herzegovina      1\n",
       "Zimbabwe                    1\n",
       "Spain                       1\n",
       "Name: country, dtype: int64"
      ]
     },
     "execution_count": 44,
     "metadata": {},
     "output_type": "execute_result"
    }
   ],
   "source": [
    "df['country'].value_counts()"
   ]
  },
  {
   "cell_type": "code",
   "execution_count": 45,
   "metadata": {},
   "outputs": [
    {
     "data": {
      "text/plain": [
       "False    742\n",
       "True     515\n",
       "Name: state, dtype: int64"
      ]
     },
     "execution_count": 45,
     "metadata": {},
     "output_type": "execute_result"
    }
   ],
   "source": [
    "df['state'].isna().value_counts()"
   ]
  },
  {
   "cell_type": "markdown",
   "metadata": {},
   "source": [
    "\n"
   ]
  },
  {
   "cell_type": "code",
   "execution_count": 46,
   "metadata": {},
   "outputs": [],
   "source": [
    "#filling feature states by shifting NaN by \"no state referred\"\n",
    "df['state'] = df['state'].fillna(\"no state referred\")"
   ]
  },
  {
   "cell_type": "code",
   "execution_count": 47,
   "metadata": {},
   "outputs": [
    {
     "data": {
      "text/plain": [
       "0                   IL\n",
       "1                   IN\n",
       "2    no state referred\n",
       "3    no state referred\n",
       "4                   TX\n",
       "Name: state, dtype: object"
      ]
     },
     "execution_count": 47,
     "metadata": {},
     "output_type": "execute_result"
    }
   ],
   "source": [
    "df['state'].head()"
   ]
  },
  {
   "cell_type": "code",
   "execution_count": 59,
   "metadata": {},
   "outputs": [],
   "source": [
    "#Updating the cleaned data into the data set\n",
    "Cleaned_data=df.to_csv('C:\\\\Users\\\\ARUN PRAVEEN\\\\Desktop\\\\mental health.csv')"
   ]
  },
  {
   "cell_type": "code",
   "execution_count": 60,
   "metadata": {},
   "outputs": [
    {
     "name": "stdout",
     "output_type": "stream",
     "text": [
      "<class 'pandas.core.frame.DataFrame'>\n",
      "Int64Index: 1257 entries, 0 to 1258\n",
      "Data columns (total 26 columns):\n",
      " #   Column                     Non-Null Count  Dtype         \n",
      "---  ------                     --------------  -----         \n",
      " 0   timestamp                  1257 non-null   datetime64[ns]\n",
      " 1   country                    1257 non-null   object        \n",
      " 2   state                      1257 non-null   object        \n",
      " 3   self_employed              1257 non-null   object        \n",
      " 4   family_history             1257 non-null   object        \n",
      " 5   treatment                  1257 non-null   object        \n",
      " 6   work_interfere             1257 non-null   object        \n",
      " 7   no_employees               1257 non-null   object        \n",
      " 8   remote_work                1257 non-null   object        \n",
      " 9   tech_company               1257 non-null   object        \n",
      " 10  benefits                   1257 non-null   object        \n",
      " 11  care_options               1257 non-null   object        \n",
      " 12  wellness_program           1257 non-null   object        \n",
      " 13  seek_help                  1257 non-null   object        \n",
      " 14  anonymity                  1257 non-null   object        \n",
      " 15  leave                      1257 non-null   object        \n",
      " 16  mental_health_consequence  1257 non-null   object        \n",
      " 17  phys_health_consequence    1257 non-null   object        \n",
      " 18  coworkers                  1257 non-null   object        \n",
      " 19  supervisor                 1257 non-null   object        \n",
      " 20  mental_health_interview    1257 non-null   object        \n",
      " 21  phys_health_interview      1257 non-null   object        \n",
      " 22  mental_vs_physical         1257 non-null   object        \n",
      " 23  obs_consequence            1257 non-null   object        \n",
      " 24  updated_age                1257 non-null   int32         \n",
      " 25  gender_new                 1257 non-null   object        \n",
      "dtypes: datetime64[ns](1), int32(1), object(24)\n",
      "memory usage: 142.4+ KB\n"
     ]
    }
   ],
   "source": [
    "df.info()"
   ]
  },
  {
   "cell_type": "code",
   "execution_count": 68,
   "metadata": {},
   "outputs": [
    {
     "name": "stdout",
     "output_type": "stream",
     "text": [
      "treatment                    1\n",
      "care_options                 1\n",
      "country                      1\n",
      "mental_vs_physical           1\n",
      "tech_company                 1\n",
      "obs_consequence              1\n",
      "supervisor                   1\n",
      "timestamp                    1\n",
      "coworkers                    1\n",
      "family_history               1\n",
      "phys_health_interview        1\n",
      "work_interfere               1\n",
      "leave                        1\n",
      "benefits                     1\n",
      "gender_new                   1\n",
      "mental_health_consequence    1\n",
      "self_employed                1\n",
      "state                        1\n",
      "no_employees                 1\n",
      "phys_health_consequence      1\n",
      "seek_help                    1\n",
      "remote_work                  1\n",
      "anonymity                    1\n",
      "updated_age                  1\n",
      "mental_health_interview      1\n",
      "wellness_program             1\n",
      "dtype: int64\n",
      "The total count of the columns is: 26\n"
     ]
    }
   ],
   "source": [
    "col=df.columns.value_counts()\n",
    "print(col)\n",
    "print(\"The total count of the columns is:\",col.sum())"
   ]
  },
  {
   "cell_type": "markdown",
   "metadata": {},
   "source": [
    "As a conclusion , \n",
    "1)  I have done data cleaning such as imputing the NA values and filled null categorical variables,conversion to appropriate Data type.\n",
    "\n",
    "2)  I have displayed the count of categorical variables in the dataset and percentage of null values (in the beginning) "
   ]
  },
  {
   "cell_type": "code",
   "execution_count": null,
   "metadata": {},
   "outputs": [],
   "source": []
  }
 ],
 "metadata": {
  "kernelspec": {
   "display_name": "Python 3",
   "language": "python",
   "name": "python3"
  },
  "language_info": {
   "codemirror_mode": {
    "name": "ipython",
    "version": 3
   },
   "file_extension": ".py",
   "mimetype": "text/x-python",
   "name": "python",
   "nbconvert_exporter": "python",
   "pygments_lexer": "ipython3",
   "version": "3.7.6"
  }
 },
 "nbformat": 4,
 "nbformat_minor": 4
}
